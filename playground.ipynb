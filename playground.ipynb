{
 "cells": [
  {
   "cell_type": "code",
   "execution_count": 3,
   "metadata": {},
   "outputs": [
    {
     "data": {
      "text/plain": [
       "{'model_name': 'vidore/colqwen2-v1.0',\n",
       " 'full_document_collection': True,\n",
       " 'highest_doc_id': 4,\n",
       " 'resize_stored_images': False,\n",
       " 'max_image_width': None,\n",
       " 'max_image_height': None,\n",
       " 'library_version': '0.0.7'}"
      ]
     },
     "execution_count": 3,
     "metadata": {},
     "output_type": "execute_result"
    }
   ],
   "source": [
    "import srsly\n",
    "\n",
    "\n",
    "index_config = srsly.read_gzip_json(\"byaldi/lkpp-multimodal/index_config.json.gz\")\n",
    "index_config[\"model_name\"] = \"/tmp/model\"\n",
    "\n",
    "srsly.write_gzip_json(\"byaldi/lkpp-multimodal/index_config.json.gz\", index_config)"
   ]
  },
  {
   "cell_type": "code",
   "execution_count": null,
   "metadata": {},
   "outputs": [],
   "source": []
  }
 ],
 "metadata": {
  "kernelspec": {
   "display_name": ".venv",
   "language": "python",
   "name": "python3"
  },
  "language_info": {
   "codemirror_mode": {
    "name": "ipython",
    "version": 3
   },
   "file_extension": ".py",
   "mimetype": "text/x-python",
   "name": "python",
   "nbconvert_exporter": "python",
   "pygments_lexer": "ipython3",
   "version": "3.11.6"
  }
 },
 "nbformat": 4,
 "nbformat_minor": 2
}
